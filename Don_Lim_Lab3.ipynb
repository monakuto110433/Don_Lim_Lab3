{
 "cells": [
  {
   "cell_type": "markdown",
   "metadata": {},
   "source": [
    "## Number 1  "
   ]
  },
  {
   "cell_type": "code",
   "execution_count": 6,
   "metadata": {},
   "outputs": [
    {
     "name": "stdout",
     "output_type": "stream",
     "text": [
      "friends\n"
     ]
    }
   ],
   "source": [
    "social_graph = {\n",
    "    \"@bongolpoc\":{\"first_name\":\"Joselito\",\n",
    "                  \"last_name\":\"Olpoc\",\n",
    "                  \"following\":[\n",
    "                  ]\n",
    "    },\n",
    "    \"@joaquin\":  {\"first_name\":\"Joaquin\",\n",
    "                  \"last_name\":\"Gonzales\",\n",
    "                  \"following\":[\n",
    "                      \"@chums\",\"@jobenilagan\"\n",
    "                  ]\n",
    "    },\n",
    "    \"@chums\" : {\"first_name\":\"Matthew\",\n",
    "                \"last_name\":\"Uy\",\n",
    "                \"following\":[\n",
    "                    \"@bongolpoc\",\"@miketan\",\"@rudyang\",\"@joeilagan\"\n",
    "                ]\n",
    "    },\n",
    "    \"@jobenilagan\":{\"first_name\":\"Joben\",\n",
    "                   \"last_name\":\"Ilagan\",\n",
    "                   \"following\":[\n",
    "                    \"@eeebeee\",\"@joeilagan\",\"@chums\",\"@joaquin\"\n",
    "                   ]\n",
    "    },\n",
    "    \"@joeilagan\":{\"first_name\":\"Joe\",\n",
    "                  \"last_name\":\"Ilagan\",\n",
    "                  \"following\":[\n",
    "                    \"@eeebeee\",\"@jobenilagan\",\"@chums\"\n",
    "                  ]\n",
    "    },\n",
    "    \"@eeebeee\":  {\"first_name\":\"Elizabeth\",\n",
    "                  \"last_name\":\"Ilagan\",\n",
    "                  \"following\":[\n",
    "                    \"@jobenilagan\",\"@joeilagan\"\n",
    "                  ]\n",
    "    },\n",
    "}\n",
    "\n",
    "def relationship_status(from_member, to_member):\n",
    "    relationship = \"\"\n",
    "    friends_relationship1 = to_member in social_graph[from_member][\"following\"]\n",
    "    friends_relationship2 = from_member in social_graph[to_member][\"following\"]\n",
    "    if(friends_relationship1 == True and friends_relationship2 == True):\n",
    "        relationship = \"friends\"\n",
    "    elif(friends_relationship1 == True):\n",
    "        relationship = \"follower\"\n",
    "    elif(friends_relationship2 == True):\n",
    "        relationship = \"followed by\"\n",
    "    return relationship\n",
    "\n",
    "print(relationship_status(\"@jobenilagan\",\"@joeilagan\"))"
   ]
  },
  {
   "cell_type": "markdown",
   "metadata": {},
   "source": [
    "## Number 2"
   ]
  },
  {
   "cell_type": "code",
   "execution_count": 43,
   "metadata": {},
   "outputs": [
    {
     "name": "stdout",
     "output_type": "stream",
     "text": [
      "\n"
     ]
    }
   ],
   "source": [
    "board1 = [\n",
    "['X','X','O'],\n",
    "['O','X','O'],\n",
    "['O','','X'],\n",
    "]\n",
    "\n",
    "board2 = [\n",
    "['X','X','O'],\n",
    "['O','X','O'],\n",
    "['','O','X'],\n",
    "]\n",
    "\n",
    "board3 = [\n",
    "['O','X','O'],\n",
    "['','O','X'],\n",
    "['X','X','O'],\n",
    "]\n",
    "\n",
    "board4 = [\n",
    "['X','X','X'],\n",
    "['O','X','O'],\n",
    "['O','','O'],\n",
    "]\n",
    "\n",
    "board5 = [\n",
    "['X','X','O'],\n",
    "['O','X','O'],\n",
    "['X','','O'],\n",
    "]\n",
    "\n",
    "board6 = [\n",
    "['X','X','O'],\n",
    "['O','X','O'],\n",
    "['X','',''],\n",
    "]\n",
    "\n",
    "\n",
    "def getwinner(board):\n",
    "    winner = \"\"\n",
    "    if(3 in [horizontal_list.count(\"X\") for horizontal_list in board]):\n",
    "        winner = \"X\"\n",
    "    \n",
    "    elif(3 in [vertical_list.count(\"X\") for vertical_list in zip(*board)]):\n",
    "        winner = \"X\"\n",
    "    \n",
    "    elif(3 == [board[i][i] for i,v in enumerate(board)].count(\"X\")):\n",
    "        winner = \"X\"\n",
    "    \n",
    "    elif(3 == [board[i][2-i] for i,v in enumerate(board)].count):\n",
    "        winner = \"X\"\n",
    "    \n",
    "    elif(3 in [horizontal_list.count(\"O\") for horizontal_list in board]):\n",
    "        winner = \"O\"\n",
    "    \n",
    "    elif(3 in [vertical_list.count(\"O\") for vertical_list in zip(*board)]):\n",
    "        winner = \"O\"\n",
    "    \n",
    "    elif(3 == [board[i][i] for i,v in enumerate(board)].count(\"O\")):\n",
    "        winner = \"O\"\n",
    "    \n",
    "    elif(3 == [board[i][2-i] for i,v in enumerate(board)].count(\"O\") ):\n",
    "        winner = \"O\"\n",
    "    \n",
    "    return winner\n",
    "\n",
    "print(getwinner(board6))"
   ]
  },
  {
   "cell_type": "markdown",
   "metadata": {},
   "source": [
    "## Number 3"
   ]
  },
  {
   "cell_type": "code",
   "execution_count": 54,
   "metadata": {},
   "outputs": [
    {
     "name": "stdout",
     "output_type": "stream",
     "text": [
      "Enter sourcedlsu\n",
      "Enter destinationupd\n",
      "55\n"
     ]
    }
   ],
   "source": [
    "legs = {\n",
    "     (\"upd\",\"admu\"):{\n",
    "         \"travel_time_mins\":10\n",
    "     },\n",
    "     (\"admu\",\"dlsu\"):{\n",
    "         \"travel_time_mins\":35\n",
    "     },\n",
    "     (\"dlsu\",\"upd\"):{\n",
    "         \"travel_time_mins\":55\n",
    "     }\n",
    "}\n",
    "\n",
    "\n",
    "def eta(source,destination):\n",
    "    pass\n",
    "    time = 0\n",
    "    route = [\"upd\",\"admu\",\"dlsu\"]\n",
    "    source_position = route.index(source)\n",
    "    destination_position = route.index(destination)\n",
    "    while(source_position != destination_position):\n",
    "        \n",
    "        dummy_position = source_position + 1 #New stop after the one before\n",
    "        \n",
    "        if(dummy_position >len(route)-1): #To check if index is greater than the stops' index\n",
    "            dummy_position = dummy_position % len(route)\n",
    "            \n",
    "        time = time + legs[(route[source_position]),(route[dummy_position])][\"travel_time_mins\"]\n",
    "    \n",
    "        source_position += 1\n",
    "        \n",
    "        if(source_position>len(route)-1): #To initialize the new source to start with 0\n",
    "            source_position = source_position % len(route)\n",
    "            \n",
    "    return time\n",
    "\n",
    "source = input(\"Enter source\")\n",
    "destination = input(\"Enter destination\")\n",
    "\n",
    "print(eta(source,destination))"
   ]
  },
  {
   "cell_type": "markdown",
   "metadata": {},
   "source": [
    "## Side notes"
   ]
  },
  {
   "cell_type": "code",
   "execution_count": null,
   "metadata": {},
   "outputs": [],
   "source": [
    "locations = {\n",
    "    \"admu\":{\n",
    "        \"name\":\"Ateneo de Manila University\",\n",
    "        \"latitude\":14.6394557,\n",
    "        \"longitude\":121.0758975        \n",
    "    },\n",
    "    \"upd\":{\n",
    "        \"name\":\"University of the Philippines-Diliman Campus\",\n",
    "        \"latitude\":14.6538519,\n",
    "        \"longitude\":121.0663348\n",
    "    },\n",
    "    \"dlsu\":{\n",
    "        \"name\":\"De La Salle University-Taft\",\n",
    "        \"latitude\":14.5647346,\n",
    "        \"longitude\":120.9909876\n",
    "\n",
    "    }, # <-- Note that Python does not complain about this extra comma. This is perfectly okay.\n",
    "       #     The creators of Python saw that dictionaries tend to be changed a lot, so allowing this is a\n",
    "       #     convenience for developers who need to add elements when needed.\n",
    "}"
   ]
  }
 ],
 "metadata": {
  "kernelspec": {
   "display_name": "Python 3",
   "language": "python",
   "name": "python3"
  },
  "language_info": {
   "codemirror_mode": {
    "name": "ipython",
    "version": 3
   },
   "file_extension": ".py",
   "mimetype": "text/x-python",
   "name": "python",
   "nbconvert_exporter": "python",
   "pygments_lexer": "ipython3",
   "version": "3.7.6"
  }
 },
 "nbformat": 4,
 "nbformat_minor": 4
}
